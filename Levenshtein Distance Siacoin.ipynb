{
 "cells": [
  {
   "cell_type": "code",
   "execution_count": 1,
   "metadata": {},
   "outputs": [
    {
     "name": "stdout",
     "output_type": "stream",
     "text": [
      "C:\\Users\\galdito\\Desktop\n"
     ]
    }
   ],
   "source": [
    "cd C:\\Users\\galdito\\Desktop"
   ]
  },
  {
   "cell_type": "code",
   "execution_count": 2,
   "metadata": {},
   "outputs": [
    {
     "data": {
      "text/plain": [
       "'C:\\\\Users\\\\galdito\\\\Desktop'"
      ]
     },
     "execution_count": 2,
     "metadata": {},
     "output_type": "execute_result"
    }
   ],
   "source": [
    "%pwd"
   ]
  },
  {
   "cell_type": "code",
   "execution_count": 3,
   "metadata": {
    "collapsed": true
   },
   "outputs": [],
   "source": [
    "#From wikipedia\n",
    "def levenshtein(s, t):\n",
    "        ''' From Wikipedia article; Iterative with two matrix rows. '''\n",
    "        if s == t: return 0\n",
    "        elif len(s) == 0: return len(t)\n",
    "        elif len(t) == 0: return len(s)\n",
    "        v0 = [None] * (len(t) + 1)\n",
    "        v1 = [None] * (len(t) + 1)\n",
    "        for i in range(len(v0)):\n",
    "            v0[i] = i\n",
    "        for i in range(len(s)):\n",
    "            v1[0] = i + 1\n",
    "            for j in range(len(t)):\n",
    "                cost = 0 if s[i] == t[j] else 1\n",
    "                v1[j + 1] = min(v1[j] + 1, v0[j + 1] + 1, v0[j] + cost)\n",
    "            for j in range(len(v0)):\n",
    "                v0[j] = v1[j]\n",
    "                \n",
    "        return v1[len(t)]"
   ]
  },
  {
   "cell_type": "code",
   "execution_count": 4,
   "metadata": {},
   "outputs": [
    {
     "name": "stdout",
     "output_type": "stream",
     "text": [
      "\"wise\" -> \"wife\"\n",
      "eluded logic wife ascend tagged acoustic situated stylishly younger aptitude \n",
      "inroads avidly hefty also godfather unrest avatar push because brunt \n",
      "viking gone august public tonic vulture shrugged otter adapt yeta\n",
      "\n",
      "\"tagged\" -> \"jagged\"\n",
      "eluded logic wise ascend jagged acoustic situated stylishly younger aptitude \n",
      "inroads avidly hefty also godfather unrest avatar push because brunt \n",
      "viking gone august public tonic vulture shrugged otter adapt yeta\n",
      "\n",
      "\"tagged\" -> \"nagged\"\n",
      "eluded logic wise ascend nagged acoustic situated stylishly younger aptitude \n",
      "inroads avidly hefty also godfather unrest avatar push because brunt \n",
      "viking gone august public tonic vulture shrugged otter adapt yeta\n",
      "\n",
      "\"aptitude\" -> \"altitude\"\n",
      "eluded logic wise ascend tagged acoustic situated stylishly younger altitude \n",
      "inroads avidly hefty also godfather unrest avatar push because brunt \n",
      "viking gone august public tonic vulture shrugged otter adapt yeta\n",
      "\n",
      "\"push\" -> \"lush\"\n",
      "eluded logic wise ascend tagged acoustic situated stylishly younger aptitude \n",
      "inroads avidly hefty also godfather unrest avatar lush because brunt \n",
      "viking gone august public tonic vulture shrugged otter adapt yeta\n",
      "\n",
      "\"brunt\" -> \"grunt\"\n",
      "eluded logic wise ascend tagged acoustic situated stylishly younger aptitude \n",
      "inroads avidly hefty also godfather unrest avatar push because grunt \n",
      "viking gone august public tonic vulture shrugged otter adapt yeta\n",
      "\n",
      "\"tonic\" -> \"ionic\"\n",
      "eluded logic wise ascend tagged acoustic situated stylishly younger aptitude \n",
      "inroads avidly hefty also godfather unrest avatar push because brunt \n",
      "viking gone august public ionic vulture shrugged otter adapt yeta\n",
      "\n",
      "\"tonic\" -> \"sonic\"\n",
      "eluded logic wise ascend tagged acoustic situated stylishly younger aptitude \n",
      "inroads avidly hefty also godfather unrest avatar push because brunt \n",
      "viking gone august public sonic vulture shrugged otter adapt yeta\n",
      "\n",
      "\"tonic\" -> \"topic\"\n",
      "eluded logic wise ascend tagged acoustic situated stylishly younger aptitude \n",
      "inroads avidly hefty also godfather unrest avatar push because brunt \n",
      "viking gone august public topic vulture shrugged otter adapt yeta\n",
      "\n",
      "\"tonic\" -> \"toxic\"\n",
      "eluded logic wise ascend tagged acoustic situated stylishly younger aptitude \n",
      "inroads avidly hefty also godfather unrest avatar push because brunt \n",
      "viking gone august public toxic vulture shrugged otter adapt yeta\n",
      "\n",
      "\"adapt\" -> \"adept\"\n",
      "eluded logic wise ascend tagged acoustic situated stylishly younger aptitude \n",
      "inroads avidly hefty also godfather unrest avatar push because brunt \n",
      "viking gone august public tonic vulture shrugged otter adept yeta\n",
      "\n",
      "\"adapt\" -> \"adopt\"\n",
      "eluded logic wise ascend tagged acoustic situated stylishly younger aptitude \n",
      "inroads avidly hefty also godfather unrest avatar push because brunt \n",
      "viking gone august public tonic vulture shrugged otter adopt yeta\n",
      "\n",
      "\"yeta\" -> \"yeti\"\n",
      "eluded logic wise ascend tagged acoustic situated stylishly younger aptitude \n",
      "inroads avidly hefty also godfather unrest avatar push because brunt \n",
      "viking gone august public tonic vulture shrugged otter adapt yeti\n",
      "\n"
     ]
    }
   ],
   "source": [
    "#How I Stole Your Siacoin\n",
    "#https://mtlynch.io/stole-siacoins/\n",
    "\n",
    "#seed = input('enter your wallet seed: ')\n",
    "seed = \"\"\"eluded logic wise ascend tagged acoustic situated stylishly younger aptitude \n",
    "inroads avidly hefty also godfather unrest avatar push because brunt \n",
    "viking gone august public tonic vulture shrugged otter adapt yeta\"\"\"\n",
    "\n",
    "for seed_word in seed.split():\n",
    "    with open('dictionary.txt') as openfile:\n",
    "        for line in openfile:\n",
    "            the_word = line.replace('\"', '', 2) #Remove \"\" characters\n",
    "            the_word = the_word.strip()         #Remove all leading and ending spaces\n",
    "            the_word = the_word[:-1]            #Remove ',' ending character\n",
    "            distance = levenshtein(seed_word, the_word)\n",
    "            if (distance == 1):\n",
    "                print('\"%s\" -> \"%s\"\\n%s\\n' % (seed_word, the_word, seed.replace(seed_word, the_word)))\n",
    "        #print(\"-\")"
   ]
  },
  {
   "cell_type": "code",
   "execution_count": null,
   "metadata": {
    "collapsed": true
   },
   "outputs": [],
   "source": []
  }
 ],
 "metadata": {
  "kernelspec": {
   "display_name": "Python 3",
   "language": "python",
   "name": "python3"
  },
  "language_info": {
   "codemirror_mode": {
    "name": "ipython",
    "version": 3
   },
   "file_extension": ".py",
   "mimetype": "text/x-python",
   "name": "python",
   "nbconvert_exporter": "python",
   "pygments_lexer": "ipython3",
   "version": "3.6.1"
  }
 },
 "nbformat": 4,
 "nbformat_minor": 2
}
